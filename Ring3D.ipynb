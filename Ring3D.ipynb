{
 "cells": [
  {
   "cell_type": "code",
   "execution_count": 1,
   "metadata": {},
   "outputs": [],
   "source": [
    "import meep as mp\n",
    "import numpy as np\n",
    "import matplotlib.pyplot as plt\n",
    "from mayavi import mlab"
   ]
  },
  {
   "cell_type": "code",
   "execution_count": 2,
   "metadata": {},
   "outputs": [],
   "source": [
    "cellLength = 8 \n",
    "cellWidth = 1\n",
    "cell = mp.Vector3(cellLength,cellWidth,0.3) "
   ]
  },
  {
   "cell_type": "code",
   "execution_count": 3,
   "metadata": {},
   "outputs": [],
   "source": [
    "#Area Size in µm"
   ]
  },
  {
   "cell_type": "code",
   "execution_count": 4,
   "metadata": {},
   "outputs": [],
   "source": [
    "wavelength = 1.55\n",
    "n = 3.4                 # index of waveguide\n",
    "w = 0.4                 # width of waveguide\n",
    "h = 0.22                # height of waveguide\n",
    "r = 6.8                 # inner radius of ring\n",
    "\n",
    "pad = 0.3               # padding between waveguide and edge of PML\n",
    "psrc = 0#r+1.5*w+pad"
   ]
  },
  {
   "cell_type": "code",
   "execution_count": 5,
   "metadata": {},
   "outputs": [],
   "source": [
    "# c1 = mp.Cylinder(radius=r+w,height=h,material=mp.Medium(index=n),center=mp.Vector3(0,0))\n",
    "# c2 = mp.Cylinder(radius=r,height=h,center=mp.Vector3(0,0))\n",
    "# b1 = mp.Block(mp.Vector3(-cellLength/2,w,h),\n",
    "#                  center=mp.Vector3(0,-psrc),\n",
    "#                  material=mp.Medium(index=n))\n",
    "b2 = mp.Block(mp.Vector3(cellLength/2,w,h),\n",
    "                 center=mp.Vector3(0,psrc),\n",
    "                 material=mp.Medium(index=n))"
   ]
  },
  {
   "cell_type": "code",
   "execution_count": 6,
   "metadata": {},
   "outputs": [],
   "source": [
    "geometry = [b2]"
   ]
  },
  {
   "cell_type": "code",
   "execution_count": 7,
   "metadata": {},
   "outputs": [],
   "source": [
    "# Waveguide:length,width,height - position - material"
   ]
  },
  {
   "cell_type": "code",
   "execution_count": 8,
   "metadata": {},
   "outputs": [],
   "source": [
    "pml_layers = [mp.PML(0.1)] # perfectly matched layer (PML)\n",
    "resolution = 12 #pixels per distance unit 10 pixels/µm"
   ]
  },
  {
   "cell_type": "code",
   "execution_count": 9,
   "metadata": {},
   "outputs": [],
   "source": [
    "sources = [mp.Source(mp.ContinuousSource(frequency=1/wavelength),\n",
    "                     component=mp.Ez,\n",
    "                     center=mp.Vector3(0.1-cellLength/2,psrc),\n",
    "                     size=mp.Vector3(0,0.5))]"
   ]
  },
  {
   "cell_type": "code",
   "execution_count": 10,
   "metadata": {},
   "outputs": [],
   "source": [
    "# Recall that, in Meep units, frequency is specified in units of 2πc\n",
    "# which is equivalent to the inverse of the vacuum wavelength. \n",
    "# Thus, 0.15 corresponds to a vacuum wavelength of about 1/0.15=6.67 µm\n",
    "# line source"
   ]
  },
  {
   "cell_type": "code",
   "execution_count": null,
   "metadata": {},
   "outputs": [
    {
     "name": "stdout",
     "output_type": "stream",
     "text": [
      "-----------\n",
      "Initializing structure...\n",
      "time for choose_chunkdivision = 0.000174046 s\n",
      "Working in 3D dimensions.\n",
      "Computational cell is 8 x 1 x 0.333333 with resolution 12\n",
      "     block, center = (0,0,0)\n",
      "          size (4,0.4,0.22)\n",
      "          axes (1,0,0), (0,1,0), (0,0,1)\n",
      "          dielectric constant epsilon diagonal = (11.56,11.56,11.56)\n",
      "time for set_epsilon = 0.0273509 s\n",
      "-----------\n"
     ]
    }
   ],
   "source": [
    "sim = mp.Simulation(cell_size=cell,\n",
    "                    boundary_layers=pml_layers,\n",
    "                    geometry=geometry,\n",
    "                    sources=sources,\n",
    "                    resolution=resolution)\n",
    "\n",
    "sim.init_sim()\n",
    "eps_data = sim.get_epsilon()\n",
    "s = mlab.contour3d(eps_data, colormap=\"YlGnBu\")\n",
    "mlab.show()"
   ]
  },
  {
   "cell_type": "code",
   "execution_count": null,
   "metadata": {},
   "outputs": [],
   "source": []
  }
 ],
 "metadata": {
  "kernelspec": {
   "display_name": "Python 3",
   "language": "python",
   "name": "python3"
  },
  "language_info": {
   "codemirror_mode": {
    "name": "ipython",
    "version": 3
   },
   "file_extension": ".py",
   "mimetype": "text/x-python",
   "name": "python",
   "nbconvert_exporter": "python",
   "pygments_lexer": "ipython3",
   "version": "3.8.5"
  }
 },
 "nbformat": 4,
 "nbformat_minor": 2
}
