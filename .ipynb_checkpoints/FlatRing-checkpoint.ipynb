{
 "cells": [
  {
   "cell_type": "code",
   "execution_count": null,
   "metadata": {},
   "outputs": [],
   "source": [
    "import meep as mp\n",
    "import numpy as np\n",
    "import matplotlib.pyplot as plt"
   ]
  },
  {
   "cell_type": "code",
   "execution_count": null,
   "metadata": {},
   "outputs": [],
   "source": [
    "cellLength = 40\n",
    "cellWidth = 20\n",
    "cell = mp.Vector3(cellLength,cellWidth,0) "
   ]
  },
  {
   "cell_type": "code",
   "execution_count": null,
   "metadata": {},
   "outputs": [],
   "source": [
    "#Area Size in µm"
   ]
  },
  {
   "cell_type": "code",
   "execution_count": null,
   "metadata": {},
   "outputs": [],
   "source": [
    "n = 3.4                 # index of waveguide\n",
    "w = 0.4                 # width of waveguide\n",
    "r = 6.8                 # inner radius of ring\n",
    "pad = 0.3               # padding between waveguide and edge of PML\n",
    "length = 5              # length of ring\n",
    "\n",
    "psrc = r+1.5*w+pad\n",
    "cbpsrc = r+0.5*w"
   ]
  },
  {
   "cell_type": "code",
   "execution_count": null,
   "metadata": {},
   "outputs": [],
   "source": [
    "c11 = mp.Cylinder(radius=r+w,height=0.22,\n",
    "                 material=mp.Medium(index=n),\n",
    "                 center=mp.Vector3(-length/2,0))\n",
    "\n",
    "c12 = mp.Cylinder(radius=r,height=0.22,\n",
    "                 center=mp.Vector3(-length/2,0))\n",
    "\n",
    "c21 = mp.Cylinder(radius=r+w,height=0.22,\n",
    "                 material=mp.Medium(index=n),\n",
    "                 center=mp.Vector3(length/2,0))\n",
    "\n",
    "c22 = mp.Cylinder(radius=r,height=0.22,\n",
    "                 center=mp.Vector3(length/2,0))\n",
    "\n",
    "# ----------------------------\n",
    "\n",
    "c0 = mp.Cylinder(radius=r,height=0.22,\n",
    "                 center=mp.Vector3(0,0))\n",
    "\n",
    "cb0 = mp.Block(mp.Vector3(length,2*r,0.22),\n",
    "                 center=mp.Vector3(0,0))\n",
    "\n",
    "cb0 = mp.Block(mp.Vector3(length,2*r,0.22),\n",
    "                 center=mp.Vector3(0,0))\n",
    "\n",
    "cb1 = mp.Block(mp.Vector3(length,w,0.22),\n",
    "                 center=mp.Vector3(0,-cbpsrc),\n",
    "                 material=mp.Medium(index=n))\n",
    "cb2 = mp.Block(mp.Vector3(length,w,0.22),\n",
    "                 center=mp.Vector3(0,cbpsrc),\n",
    "                 material=mp.Medium(index=n))\n",
    "\n",
    "# ----------------------------\n",
    "b1 = mp.Block(mp.Vector3(mp.inf,w,0.22),\n",
    "                 center=mp.Vector3(0,-psrc),\n",
    "                 material=mp.Medium(index=n))\n",
    "b2 = mp.Block(mp.Vector3(mp.inf,w,0.22),\n",
    "                 center=mp.Vector3(0,psrc),\n",
    "                 material=mp.Medium(index=n))"
   ]
  },
  {
   "cell_type": "code",
   "execution_count": null,
   "metadata": {},
   "outputs": [],
   "source": [
    "geometry = [c11,c12,c21,c22,c0,cb0,cb1,cb2,b1,b2]"
   ]
  },
  {
   "cell_type": "code",
   "execution_count": null,
   "metadata": {},
   "outputs": [],
   "source": [
    "# Waveguide:length,width,height - position - material"
   ]
  },
  {
   "cell_type": "code",
   "execution_count": null,
   "metadata": {},
   "outputs": [],
   "source": [
    "pml_layers = [mp.PML(0.1)] # perfectly matched layer (PML)\n",
    "resolution = 10 #pixels per distance unit 10 pixels/µm"
   ]
  },
  {
   "cell_type": "code",
   "execution_count": null,
   "metadata": {},
   "outputs": [],
   "source": [
    "sources = [mp.Source(mp.ContinuousSource(frequency=1/1.55),\n",
    "                     component=mp.Ez,\n",
    "                     center=mp.Vector3(-mp.inf,psrc),\n",
    "                     size=mp.Vector3(0,0.5))]"
   ]
  },
  {
   "cell_type": "code",
   "execution_count": null,
   "metadata": {},
   "outputs": [],
   "source": [
    "# Recall that, in Meep units, frequency is specified in units of 2πc\n",
    "# which is equivalent to the inverse of the vacuum wavelength. \n",
    "# Thus, 0.15 corresponds to a vacuum wavelength of about 1/0.15=6.67 µm\n",
    "# line source"
   ]
  },
  {
   "cell_type": "code",
   "execution_count": null,
   "metadata": {},
   "outputs": [],
   "source": [
    "sim = mp.Simulation(cell_size=cell,\n",
    "                    boundary_layers=pml_layers,\n",
    "                    geometry=geometry,\n",
    "                    sources=sources,\n",
    "                    resolution=resolution)\n",
    "\n",
    "sim.run(mp.at_beginning(mp.output_epsilon),\n",
    "        mp.to_appended(\"ez\", mp.at_every(0.6, mp.output_efield_z)),\n",
    "        until=200)"
   ]
  },
  {
   "cell_type": "code",
   "execution_count": null,
   "metadata": {},
   "outputs": [],
   "source": [
    "eps_data = sim.get_array(center=mp.Vector3(), size=cell, component=mp.Dielectric)\n",
    "plt.figure()\n",
    "plt.imshow(eps_data.transpose(), interpolation='spline36', cmap='binary')\n",
    "plt.axis('off')\n",
    "plt.show()"
   ]
  },
  {
   "cell_type": "code",
   "execution_count": null,
   "metadata": {},
   "outputs": [],
   "source": [
    "ez_data = sim.get_array(center=mp.Vector3(), size=cell, component=mp.Ez)\n",
    "plt.figure()\n",
    "plt.imshow(eps_data.transpose(), interpolation='spline36', cmap='binary')\n",
    "plt.imshow(ez_data.transpose(), interpolation='spline36', cmap='RdBu', alpha=0.9)\n",
    "plt.axis('off')\n",
    "plt.show()"
   ]
  },
  {
   "cell_type": "code",
   "execution_count": null,
   "metadata": {},
   "outputs": [],
   "source": []
  }
 ],
 "metadata": {
  "kernelspec": {
   "display_name": "Python 3",
   "language": "python",
   "name": "python3"
  },
  "language_info": {
   "codemirror_mode": {
    "name": "ipython",
    "version": 3
   },
   "file_extension": ".py",
   "mimetype": "text/x-python",
   "name": "python",
   "nbconvert_exporter": "python",
   "pygments_lexer": "ipython3",
   "version": "3.8.5"
  }
 },
 "nbformat": 4,
 "nbformat_minor": 2
}
