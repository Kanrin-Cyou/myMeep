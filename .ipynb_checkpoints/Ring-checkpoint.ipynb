{
 "cells": [
  {
   "cell_type": "code",
   "execution_count": 64,
   "metadata": {},
   "outputs": [],
   "source": [
    "import meep as mp\n",
    "import numpy as np\n",
    "import matplotlib.pyplot as plt"
   ]
  },
  {
   "cell_type": "code",
   "execution_count": 65,
   "metadata": {},
   "outputs": [],
   "source": [
    "cellLength = 30 \n",
    "cellWidth = 20\n",
    "cell = mp.Vector3(cellLength,cellWidth) "
   ]
  },
  {
   "cell_type": "code",
   "execution_count": 66,
   "metadata": {},
   "outputs": [],
   "source": [
    "#Area Size in µm"
   ]
  },
  {
   "cell_type": "code",
   "execution_count": 67,
   "metadata": {},
   "outputs": [],
   "source": [
    "wavelength = 3\n",
    "n = 3.4                 # index of waveguide\n",
    "w = 0.4                 # width of waveguide\n",
    "r = 6.8                 # inner radius of ring\n",
    "pad = 0.3               # padding between waveguide and edge of PML\n",
    "psrc = r+1.5*w+pad"
   ]
  },
  {
   "cell_type": "code",
   "execution_count": 68,
   "metadata": {},
   "outputs": [],
   "source": [
    "c1 = mp.Cylinder(radius=r+w, material=mp.Medium(index=n),center=mp.Vector3(0,0))\n",
    "c2 = mp.Cylinder(radius=r,center=mp.Vector3(0,0))\n",
    "b1 = mp.Block(mp.Vector3(mp.inf,w,mp.inf),\n",
    "                 center=mp.Vector3(0,-psrc),\n",
    "                 material=mp.Medium(index=n))\n",
    "b2 = mp.Block(mp.Vector3(mp.inf,w,mp.inf),\n",
    "                 center=mp.Vector3(0,psrc),\n",
    "                 material=mp.Medium(index=n))"
   ]
  },
  {
   "cell_type": "code",
   "execution_count": 69,
   "metadata": {},
   "outputs": [],
   "source": [
    "geometry = [c1,c2,b1,b2]"
   ]
  },
  {
   "cell_type": "code",
   "execution_count": 70,
   "metadata": {},
   "outputs": [],
   "source": [
    "# Waveguide:length,width,height - position - material"
   ]
  },
  {
   "cell_type": "code",
   "execution_count": 71,
   "metadata": {},
   "outputs": [],
   "source": [
    "pml_layers = [mp.PML(0.1)] # perfectly matched layer (PML)\n",
    "resolution = 12 #pixels per distance unit 10 pixels/µm"
   ]
  },
  {
   "cell_type": "code",
   "execution_count": 72,
   "metadata": {},
   "outputs": [],
   "source": [
    "sources = [mp.Source(mp.ContinuousSource(frequency=1/wavelength),\n",
    "                     component=mp.Ez,\n",
    "                     center=mp.Vector3(-mp.inf,psrc),\n",
    "                     size=mp.Vector3(0,0.5))]"
   ]
  },
  {
   "cell_type": "code",
   "execution_count": 73,
   "metadata": {},
   "outputs": [],
   "source": [
    "# Recall that, in Meep units, frequency is specified in units of 2πc\n",
    "# which is equivalent to the inverse of the vacuum wavelength. \n",
    "# Thus, 0.15 corresponds to a vacuum wavelength of about 1/0.15=6.67 µm\n",
    "# line source"
   ]
  },
  {
   "cell_type": "code",
   "execution_count": 74,
   "metadata": {},
   "outputs": [
    {
     "name": "stdout",
     "output_type": "stream",
     "text": [
      "-----------\n",
      "Initializing structure...\n",
      "time for choose_chunkdivision = 0.000328064 s\n",
      "Working in 3D dimensions.\n",
      "Computational cell is 30 x 20 x 0.333333 with resolution 12\n",
      "     cylinder, center = (0,0,0)\n",
      "          radius 7.2, height 1e+20, axis (0, 0, 1)\n",
      "          dielectric constant epsilon diagonal = (11.56,11.56,11.56)\n",
      "     cylinder, center = (0,0,0)\n",
      "          radius 6.8, height 1e+20, axis (0, 0, 1)\n",
      "          dielectric constant epsilon diagonal = (1,1,1)\n",
      "     block, center = (0,-7.7,0)\n",
      "          size (1e+20,0.4,1e+20)\n",
      "          axes (1,0,0), (0,1,0), (0,0,1)\n",
      "          dielectric constant epsilon diagonal = (11.56,11.56,11.56)\n",
      "     block, center = (0,7.7,0)\n",
      "          size (1e+20,0.4,1e+20)\n",
      "          axes (1,0,0), (0,1,0), (0,0,1)\n",
      "          dielectric constant epsilon diagonal = (11.56,11.56,11.56)\n",
      "time for set_epsilon = 2.6216 s\n",
      "-----------\n",
      "creating output file \"./eps-000000.00.h5\"...\n",
      "creating output file \"./ez.h5\"...\n",
      "Meep progress: 0.875/200.0 = 0.4% done in 4.0s, 911.4s to go\n",
      "on time step 23 (time=0.958333), 0.173979 s/step\n",
      "Meep progress: 4.5/200.0 = 2.2% done in 8.0s, 347.8s to go\n",
      "on time step 111 (time=4.625), 0.0456856 s/step\n",
      "Meep progress: 7.958333333333333/200.0 = 4.0% done in 12.0s, 290.0s to go\n",
      "on time step 194 (time=8.08333), 0.0484396 s/step\n",
      "Meep progress: 11.666666666666666/200.0 = 5.8% done in 16.1s, 259.8s to go\n",
      "on time step 280 (time=11.6667), 0.0465387 s/step\n",
      "Meep progress: 15.5/200.0 = 7.8% done in 20.1s, 239.4s to go\n",
      "on time step 372 (time=15.5), 0.0436625 s/step\n",
      "Meep progress: 18.083333333333332/200.0 = 9.0% done in 24.3s, 244.4s to go\n",
      "on time step 434 (time=18.0833), 0.0675551 s/step\n",
      "Meep progress: 21.583333333333332/200.0 = 10.8% done in 28.6s, 236.6s to go\n",
      "on time step 518 (time=21.5833), 0.0514316 s/step\n",
      "Meep progress: 25.083333333333332/200.0 = 12.5% done in 33.0s, 229.9s to go\n",
      "on time step 602 (time=25.0833), 0.0517049 s/step\n",
      "Meep progress: 28.583333333333332/200.0 = 14.3% done in 37.2s, 223.3s to go\n",
      "on time step 686 (time=28.5833), 0.0508026 s/step\n",
      "Meep progress: 32.08333333333333/200.0 = 16.0% done in 41.5s, 217.2s to go\n",
      "on time step 770 (time=32.0833), 0.0508618 s/step\n",
      "Meep progress: 35.541666666666664/200.0 = 17.8% done in 45.5s, 210.6s to go\n",
      "on time step 853 (time=35.5417), 0.0482834 s/step\n",
      "Meep progress: 38.5/200.0 = 19.2% done in 49.6s, 207.9s to go\n",
      "on time step 924 (time=38.5), 0.0571804 s/step\n",
      "Meep progress: 42.0/200.0 = 21.0% done in 53.8s, 202.3s to go\n",
      "on time step 1008 (time=42), 0.0499919 s/step\n",
      "Meep progress: 45.5/200.0 = 22.8% done in 58.0s, 196.9s to go\n",
      "on time step 1092 (time=45.5), 0.0502671 s/step\n",
      "Meep progress: 48.95833333333333/200.0 = 24.5% done in 62.0s, 191.3s to go\n",
      "on time step 1175 (time=48.9583), 0.0483527 s/step\n",
      "Meep progress: 51.916666666666664/200.0 = 26.0% done in 66.3s, 189.1s to go\n",
      "on time step 1246 (time=51.9167), 0.0604012 s/step\n",
      "Meep progress: 55.416666666666664/200.0 = 27.7% done in 70.9s, 184.9s to go\n",
      "on time step 1330 (time=55.4167), 0.0544424 s/step\n",
      "Meep progress: 58.33333333333333/200.0 = 29.2% done in 75.0s, 182.2s to go\n",
      "on time step 1400 (time=58.3333), 0.0593352 s/step\n",
      "Meep progress: 61.25/200.0 = 30.6% done in 79.2s, 179.4s to go\n",
      "on time step 1470 (time=61.25), 0.0597342 s/step\n",
      "Meep progress: 64.16666666666666/200.0 = 32.1% done in 83.3s, 176.4s to go\n",
      "on time step 1540 (time=64.1667), 0.0590309 s/step\n",
      "Meep progress: 67.33333333333333/200.0 = 33.7% done in 87.3s, 172.1s to go\n",
      "on time step 1616 (time=67.3333), 0.0527649 s/step\n",
      "Meep progress: 70.58333333333333/200.0 = 35.3% done in 91.8s, 168.4s to go\n",
      "on time step 1694 (time=70.5833), 0.0576609 s/step\n",
      "Meep progress: 74.08333333333333/200.0 = 37.0% done in 96.2s, 163.6s to go\n",
      "on time step 1778 (time=74.0833), 0.05232 s/step\n",
      "Meep progress: 77.58333333333333/200.0 = 38.8% done in 100.6s, 158.7s to go\n",
      "on time step 1862 (time=77.5833), 0.0515584 s/step\n",
      "Meep progress: 81.08333333333333/200.0 = 40.5% done in 105.0s, 154.0s to go\n",
      "on time step 1946 (time=81.0833), 0.0531568 s/step\n",
      "Meep progress: 85.16666666666666/200.0 = 42.6% done in 109.1s, 147.1s to go\n",
      "on time step 2044 (time=85.1667), 0.0414241 s/step\n",
      "Meep progress: 89.83333333333333/200.0 = 44.9% done in 113.3s, 138.9s to go\n",
      "on time step 2156 (time=89.8333), 0.0373127 s/step\n",
      "Meep progress: 94.5/200.0 = 47.2% done in 117.5s, 131.1s to go\n",
      "on time step 2268 (time=94.5), 0.0373243 s/step\n",
      "Meep progress: 99.16666666666666/200.0 = 49.6% done in 121.6s, 123.7s to go\n",
      "on time step 2380 (time=99.1667), 0.0374253 s/step\n",
      "Meep progress: 103.83333333333333/200.0 = 51.9% done in 125.8s, 116.6s to go\n",
      "on time step 2492 (time=103.833), 0.0374756 s/step\n",
      "Meep progress: 108.5/200.0 = 54.2% done in 130.0s, 109.7s to go\n",
      "on time step 2604 (time=108.5), 0.0374266 s/step\n",
      "Meep progress: 113.16666666666666/200.0 = 56.6% done in 134.2s, 103.0s to go\n",
      "on time step 2716 (time=113.167), 0.0372533 s/step\n",
      "Meep progress: 116.66666666666666/200.0 = 58.3% done in 138.4s, 98.9s to go\n",
      "on time step 2800 (time=116.667), 0.0498097 s/step\n",
      "Meep progress: 120.16666666666666/200.0 = 60.1% done in 142.7s, 94.8s to go\n",
      "on time step 2884 (time=120.167), 0.0517243 s/step\n",
      "Meep progress: 123.66666666666666/200.0 = 61.8% done in 147.1s, 90.8s to go\n",
      "on time step 2968 (time=123.667), 0.0521128 s/step\n",
      "Meep progress: 127.16666666666666/200.0 = 63.6% done in 151.5s, 86.8s to go\n",
      "on time step 3052 (time=127.167), 0.0523971 s/step\n",
      "Meep progress: 130.66666666666666/200.0 = 65.3% done in 155.7s, 82.6s to go\n",
      "on time step 3136 (time=130.667), 0.0492522 s/step\n",
      "Meep progress: 134.16666666666666/200.0 = 67.1% done in 159.9s, 78.4s to go\n",
      "on time step 3220 (time=134.167), 0.0500564 s/step\n",
      "Meep progress: 137.66666666666666/200.0 = 68.8% done in 164.0s, 74.3s to go\n",
      "on time step 3304 (time=137.667), 0.0494599 s/step\n",
      "Meep progress: 141.75/200.0 = 70.9% done in 168.1s, 69.1s to go\n",
      "on time step 3402 (time=141.75), 0.0419129 s/step\n",
      "Meep progress: 146.41666666666666/200.0 = 73.2% done in 172.3s, 63.1s to go\n",
      "on time step 3514 (time=146.417), 0.037327 s/step\n",
      "Meep progress: 151.08333333333331/200.0 = 75.5% done in 176.5s, 57.1s to go\n",
      "on time step 3626 (time=151.083), 0.0373088 s/step\n",
      "Meep progress: 155.16666666666666/200.0 = 77.6% done in 180.7s, 52.2s to go\n",
      "on time step 3724 (time=155.167), 0.042596 s/step\n",
      "Meep progress: 159.75/200.0 = 79.9% done in 184.7s, 46.5s to go\n",
      "on time step 3834 (time=159.75), 0.0363887 s/step\n",
      "Meep progress: 164.04166666666666/200.0 = 82.0% done in 188.7s, 41.4s to go\n",
      "on time step 3937 (time=164.042), 0.0390271 s/step\n",
      "Meep progress: 168.41666666666666/200.0 = 84.2% done in 192.7s, 36.1s to go\n",
      "on time step 4042 (time=168.417), 0.0381906 s/step\n",
      "Meep progress: 172.08333333333331/200.0 = 86.0% done in 197.2s, 32.0s to go\n",
      "on time step 4130 (time=172.083), 0.0513489 s/step\n",
      "Meep progress: 175.04166666666666/200.0 = 87.5% done in 201.2s, 28.7s to go\n",
      "on time step 4201 (time=175.042), 0.0563694 s/step\n",
      "Meep progress: 177.91666666666666/200.0 = 89.0% done in 205.3s, 25.5s to go\n",
      "on time step 4270 (time=177.917), 0.059877 s/step\n",
      "Meep progress: 180.83333333333331/200.0 = 90.4% done in 209.5s, 22.2s to go\n",
      "on time step 4340 (time=180.833), 0.0599648 s/step\n",
      "Meep progress: 184.0/200.0 = 92.0% done in 213.6s, 18.6s to go\n",
      "on time step 4416 (time=184), 0.0527903 s/step\n",
      "Meep progress: 187.25/200.0 = 93.6% done in 217.9s, 14.8s to go\n",
      "on time step 4494 (time=187.25), 0.0557242 s/step\n",
      "Meep progress: 190.75/200.0 = 95.4% done in 222.4s, 10.8s to go\n",
      "on time step 4578 (time=190.75), 0.0531517 s/step\n",
      "Meep progress: 193.75/200.0 = 96.9% done in 226.4s, 7.3s to go\n",
      "on time step 4650 (time=193.75), 0.0556905 s/step\n",
      "Meep progress: 197.16666666666666/200.0 = 98.6% done in 230.9s, 3.3s to go\n",
      "on time step 4732 (time=197.167), 0.0547954 s/step\n",
      "run 0 finished at t = 200.0 (4800 timesteps)\n"
     ]
    }
   ],
   "source": [
    "sim = mp.Simulation(cell_size=cell,\n",
    "                    boundary_layers=pml_layers,\n",
    "                    geometry=geometry,\n",
    "                    sources=sources,\n",
    "                    resolution=resolution)\n",
    "\n",
    "sim.run(mp.at_beginning(mp.output_epsilon),\n",
    "        mp.to_appended(\"ez\", mp.at_every(0.6, mp.output_efield_z)),\n",
    "        until=200)"
   ]
  },
  {
   "cell_type": "code",
   "execution_count": 75,
   "metadata": {},
   "outputs": [
    {
     "ename": "TypeError",
     "evalue": "Invalid shape (4, 240, 360) for image data",
     "output_type": "error",
     "traceback": [
      "\u001b[0;31m---------------------------------------------------------------------------\u001b[0m",
      "\u001b[0;31mTypeError\u001b[0m                                 Traceback (most recent call last)",
      "\u001b[0;32m<ipython-input-75-263c0613447e>\u001b[0m in \u001b[0;36m<module>\u001b[0;34m\u001b[0m\n\u001b[1;32m      1\u001b[0m \u001b[0meps_data\u001b[0m \u001b[0;34m=\u001b[0m \u001b[0msim\u001b[0m\u001b[0;34m.\u001b[0m\u001b[0mget_array\u001b[0m\u001b[0;34m(\u001b[0m\u001b[0mcenter\u001b[0m\u001b[0;34m=\u001b[0m\u001b[0mmp\u001b[0m\u001b[0;34m.\u001b[0m\u001b[0mVector3\u001b[0m\u001b[0;34m(\u001b[0m\u001b[0;34m)\u001b[0m\u001b[0;34m,\u001b[0m \u001b[0msize\u001b[0m\u001b[0;34m=\u001b[0m\u001b[0mcell\u001b[0m\u001b[0;34m,\u001b[0m \u001b[0mcomponent\u001b[0m\u001b[0;34m=\u001b[0m\u001b[0mmp\u001b[0m\u001b[0;34m.\u001b[0m\u001b[0mDielectric\u001b[0m\u001b[0;34m)\u001b[0m\u001b[0;34m\u001b[0m\u001b[0;34m\u001b[0m\u001b[0m\n\u001b[1;32m      2\u001b[0m \u001b[0mplt\u001b[0m\u001b[0;34m.\u001b[0m\u001b[0mfigure\u001b[0m\u001b[0;34m(\u001b[0m\u001b[0;34m)\u001b[0m\u001b[0;34m\u001b[0m\u001b[0;34m\u001b[0m\u001b[0m\n\u001b[0;32m----> 3\u001b[0;31m \u001b[0mplt\u001b[0m\u001b[0;34m.\u001b[0m\u001b[0mimshow\u001b[0m\u001b[0;34m(\u001b[0m\u001b[0meps_data\u001b[0m\u001b[0;34m.\u001b[0m\u001b[0mtranspose\u001b[0m\u001b[0;34m(\u001b[0m\u001b[0;34m)\u001b[0m\u001b[0;34m,\u001b[0m \u001b[0minterpolation\u001b[0m\u001b[0;34m=\u001b[0m\u001b[0;34m'spline36'\u001b[0m\u001b[0;34m,\u001b[0m \u001b[0mcmap\u001b[0m\u001b[0;34m=\u001b[0m\u001b[0;34m'binary'\u001b[0m\u001b[0;34m)\u001b[0m\u001b[0;34m\u001b[0m\u001b[0;34m\u001b[0m\u001b[0m\n\u001b[0m\u001b[1;32m      4\u001b[0m \u001b[0mplt\u001b[0m\u001b[0;34m.\u001b[0m\u001b[0maxis\u001b[0m\u001b[0;34m(\u001b[0m\u001b[0;34m'off'\u001b[0m\u001b[0;34m)\u001b[0m\u001b[0;34m\u001b[0m\u001b[0;34m\u001b[0m\u001b[0m\n\u001b[1;32m      5\u001b[0m \u001b[0mplt\u001b[0m\u001b[0;34m.\u001b[0m\u001b[0mshow\u001b[0m\u001b[0;34m(\u001b[0m\u001b[0;34m)\u001b[0m\u001b[0;34m\u001b[0m\u001b[0;34m\u001b[0m\u001b[0m\n",
      "\u001b[0;32m~/opt/anaconda3/envs/mp/lib/python3.8/site-packages/matplotlib/pyplot.py\u001b[0m in \u001b[0;36mimshow\u001b[0;34m(X, cmap, norm, aspect, interpolation, alpha, vmin, vmax, origin, extent, filternorm, filterrad, resample, url, data, **kwargs)\u001b[0m\n\u001b[1;32m   2722\u001b[0m         \u001b[0mfilternorm\u001b[0m\u001b[0;34m=\u001b[0m\u001b[0;32mTrue\u001b[0m\u001b[0;34m,\u001b[0m \u001b[0mfilterrad\u001b[0m\u001b[0;34m=\u001b[0m\u001b[0;36m4.0\u001b[0m\u001b[0;34m,\u001b[0m \u001b[0mresample\u001b[0m\u001b[0;34m=\u001b[0m\u001b[0;32mNone\u001b[0m\u001b[0;34m,\u001b[0m \u001b[0murl\u001b[0m\u001b[0;34m=\u001b[0m\u001b[0;32mNone\u001b[0m\u001b[0;34m,\u001b[0m\u001b[0;34m\u001b[0m\u001b[0;34m\u001b[0m\u001b[0m\n\u001b[1;32m   2723\u001b[0m         data=None, **kwargs):\n\u001b[0;32m-> 2724\u001b[0;31m     __ret = gca().imshow(\n\u001b[0m\u001b[1;32m   2725\u001b[0m         \u001b[0mX\u001b[0m\u001b[0;34m,\u001b[0m \u001b[0mcmap\u001b[0m\u001b[0;34m=\u001b[0m\u001b[0mcmap\u001b[0m\u001b[0;34m,\u001b[0m \u001b[0mnorm\u001b[0m\u001b[0;34m=\u001b[0m\u001b[0mnorm\u001b[0m\u001b[0;34m,\u001b[0m \u001b[0maspect\u001b[0m\u001b[0;34m=\u001b[0m\u001b[0maspect\u001b[0m\u001b[0;34m,\u001b[0m\u001b[0;34m\u001b[0m\u001b[0;34m\u001b[0m\u001b[0m\n\u001b[1;32m   2726\u001b[0m         \u001b[0minterpolation\u001b[0m\u001b[0;34m=\u001b[0m\u001b[0minterpolation\u001b[0m\u001b[0;34m,\u001b[0m \u001b[0malpha\u001b[0m\u001b[0;34m=\u001b[0m\u001b[0malpha\u001b[0m\u001b[0;34m,\u001b[0m \u001b[0mvmin\u001b[0m\u001b[0;34m=\u001b[0m\u001b[0mvmin\u001b[0m\u001b[0;34m,\u001b[0m\u001b[0;34m\u001b[0m\u001b[0;34m\u001b[0m\u001b[0m\n",
      "\u001b[0;32m~/opt/anaconda3/envs/mp/lib/python3.8/site-packages/matplotlib/__init__.py\u001b[0m in \u001b[0;36minner\u001b[0;34m(ax, data, *args, **kwargs)\u001b[0m\n\u001b[1;32m   1436\u001b[0m     \u001b[0;32mdef\u001b[0m \u001b[0minner\u001b[0m\u001b[0;34m(\u001b[0m\u001b[0max\u001b[0m\u001b[0;34m,\u001b[0m \u001b[0;34m*\u001b[0m\u001b[0margs\u001b[0m\u001b[0;34m,\u001b[0m \u001b[0mdata\u001b[0m\u001b[0;34m=\u001b[0m\u001b[0;32mNone\u001b[0m\u001b[0;34m,\u001b[0m \u001b[0;34m**\u001b[0m\u001b[0mkwargs\u001b[0m\u001b[0;34m)\u001b[0m\u001b[0;34m:\u001b[0m\u001b[0;34m\u001b[0m\u001b[0;34m\u001b[0m\u001b[0m\n\u001b[1;32m   1437\u001b[0m         \u001b[0;32mif\u001b[0m \u001b[0mdata\u001b[0m \u001b[0;32mis\u001b[0m \u001b[0;32mNone\u001b[0m\u001b[0;34m:\u001b[0m\u001b[0;34m\u001b[0m\u001b[0;34m\u001b[0m\u001b[0m\n\u001b[0;32m-> 1438\u001b[0;31m             \u001b[0;32mreturn\u001b[0m \u001b[0mfunc\u001b[0m\u001b[0;34m(\u001b[0m\u001b[0max\u001b[0m\u001b[0;34m,\u001b[0m \u001b[0;34m*\u001b[0m\u001b[0mmap\u001b[0m\u001b[0;34m(\u001b[0m\u001b[0msanitize_sequence\u001b[0m\u001b[0;34m,\u001b[0m \u001b[0margs\u001b[0m\u001b[0;34m)\u001b[0m\u001b[0;34m,\u001b[0m \u001b[0;34m**\u001b[0m\u001b[0mkwargs\u001b[0m\u001b[0;34m)\u001b[0m\u001b[0;34m\u001b[0m\u001b[0;34m\u001b[0m\u001b[0m\n\u001b[0m\u001b[1;32m   1439\u001b[0m \u001b[0;34m\u001b[0m\u001b[0m\n\u001b[1;32m   1440\u001b[0m         \u001b[0mbound\u001b[0m \u001b[0;34m=\u001b[0m \u001b[0mnew_sig\u001b[0m\u001b[0;34m.\u001b[0m\u001b[0mbind\u001b[0m\u001b[0;34m(\u001b[0m\u001b[0max\u001b[0m\u001b[0;34m,\u001b[0m \u001b[0;34m*\u001b[0m\u001b[0margs\u001b[0m\u001b[0;34m,\u001b[0m \u001b[0;34m**\u001b[0m\u001b[0mkwargs\u001b[0m\u001b[0;34m)\u001b[0m\u001b[0;34m\u001b[0m\u001b[0;34m\u001b[0m\u001b[0m\n",
      "\u001b[0;32m~/opt/anaconda3/envs/mp/lib/python3.8/site-packages/matplotlib/axes/_axes.py\u001b[0m in \u001b[0;36mimshow\u001b[0;34m(self, X, cmap, norm, aspect, interpolation, alpha, vmin, vmax, origin, extent, filternorm, filterrad, resample, url, **kwargs)\u001b[0m\n\u001b[1;32m   5521\u001b[0m                               resample=resample, **kwargs)\n\u001b[1;32m   5522\u001b[0m \u001b[0;34m\u001b[0m\u001b[0m\n\u001b[0;32m-> 5523\u001b[0;31m         \u001b[0mim\u001b[0m\u001b[0;34m.\u001b[0m\u001b[0mset_data\u001b[0m\u001b[0;34m(\u001b[0m\u001b[0mX\u001b[0m\u001b[0;34m)\u001b[0m\u001b[0;34m\u001b[0m\u001b[0;34m\u001b[0m\u001b[0m\n\u001b[0m\u001b[1;32m   5524\u001b[0m         \u001b[0mim\u001b[0m\u001b[0;34m.\u001b[0m\u001b[0mset_alpha\u001b[0m\u001b[0;34m(\u001b[0m\u001b[0malpha\u001b[0m\u001b[0;34m)\u001b[0m\u001b[0;34m\u001b[0m\u001b[0;34m\u001b[0m\u001b[0m\n\u001b[1;32m   5525\u001b[0m         \u001b[0;32mif\u001b[0m \u001b[0mim\u001b[0m\u001b[0;34m.\u001b[0m\u001b[0mget_clip_path\u001b[0m\u001b[0;34m(\u001b[0m\u001b[0;34m)\u001b[0m \u001b[0;32mis\u001b[0m \u001b[0;32mNone\u001b[0m\u001b[0;34m:\u001b[0m\u001b[0;34m\u001b[0m\u001b[0;34m\u001b[0m\u001b[0m\n",
      "\u001b[0;32m~/opt/anaconda3/envs/mp/lib/python3.8/site-packages/matplotlib/image.py\u001b[0m in \u001b[0;36mset_data\u001b[0;34m(self, A)\u001b[0m\n\u001b[1;32m    707\u001b[0m         if not (self._A.ndim == 2\n\u001b[1;32m    708\u001b[0m                 or self._A.ndim == 3 and self._A.shape[-1] in [3, 4]):\n\u001b[0;32m--> 709\u001b[0;31m             raise TypeError(\"Invalid shape {} for image data\"\n\u001b[0m\u001b[1;32m    710\u001b[0m                             .format(self._A.shape))\n\u001b[1;32m    711\u001b[0m \u001b[0;34m\u001b[0m\u001b[0m\n",
      "\u001b[0;31mTypeError\u001b[0m: Invalid shape (4, 240, 360) for image data"
     ]
    },
    {
     "data": {
      "image/png": "[encoded data removed]",
      "text/plain": [
       "<Figure size 432x288 with 1 Axes>"
      ]
     },
     "metadata": {
      "needs_background": "light"
     },
     "output_type": "display_data"
    }
   ],
   "source": [
    "eps_data = sim.get_array(center=mp.Vector3(), size=cell, component=mp.Dielectric)\n",
    "plt.figure()\n",
    "plt.imshow(eps_data.transpose(), interpolation='spline36', cmap='binary')\n",
    "plt.axis('off')\n",
    "plt.show()"
   ]
  },
  {
   "cell_type": "code",
   "execution_count": null,
   "metadata": {},
   "outputs": [],
   "source": [
    "ez_data = sim.get_array(center=mp.Vector3(), size=cell, component=mp.Ez)\n",
    "plt.figure()\n",
    "plt.imshow(eps_data.transpose(), interpolation='spline36', cmap='binary')\n",
    "plt.imshow(ez_data.transpose(), interpolation='spline36', cmap='RdBu', alpha=0.9)\n",
    "plt.axis('off')\n",
    "plt.show()"
   ]
  },
  {
   "cell_type": "code",
   "execution_count": null,
   "metadata": {},
   "outputs": [],
   "source": []
  }
 ],
 "metadata": {
  "kernelspec": {
   "display_name": "Python 3",
   "language": "python",
   "name": "python3"
  },
  "language_info": {
   "codemirror_mode": {
    "name": "ipython",
    "version": 3
   },
   "file_extension": ".py",
   "mimetype": "text/x-python",
   "name": "python",
   "nbconvert_exporter": "python",
   "pygments_lexer": "ipython3",
   "version": "3.8.5"
  }
 },
 "nbformat": 4,
 "nbformat_minor": 2
}
